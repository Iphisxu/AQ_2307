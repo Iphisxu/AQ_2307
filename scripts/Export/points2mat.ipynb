{
 "cells": [
  {
   "attachments": {},
   "cell_type": "markdown",
   "metadata": {},
   "source": [
    "# 根据要求导出`WRF-CMAQ`模拟数据\n",
    "2、\t四个国控点的数据。各指标如O3浓度、PM2.5浓度、NO2浓度、各过程贡献、各来源贡献和敏感性指标（HNO3/H2O2比值）的时间序列，可以存成一个excel表格，例如第一列是时间（小时），第二列是O3浓度，第三列….。\n",
    "\n",
    "---\n",
    "*@author: Evan*\\\n",
    "*@date: 2023-08-09*"
   ]
  },
  {
   "cell_type": "code",
   "execution_count": 1,
   "metadata": {},
   "outputs": [],
   "source": [
    "import xarray as xr\n",
    "import numpy as np\n",
    "import pandas as pd\n",
    "from scipy.io import savemat\n",
    "\n",
    "# silence the warning note\n",
    "import warnings\n",
    "warnings.filterwarnings(\"ignore\")\n",
    "\n",
    "import sys\n",
    "sys.path.append('../../src/')\n",
    "from findpoint import findpoint\n",
    "import ModelEvaLib as me\n",
    "from namelist import *"
   ]
  },
  {
   "cell_type": "code",
   "execution_count": 2,
   "metadata": {},
   "outputs": [],
   "source": [
    "chem = xr.open_dataset(cmaqfile)\n",
    "met = xr.open_dataset(mcipfile)\n",
    "pa = xr.open_dataset(pafile)\n",
    "isam1 = xr.open_dataset(isamfile1)\n",
    "isam2 = xr.open_dataset(isamfile2)"
   ]
  },
  {
   "cell_type": "code",
   "execution_count": 3,
   "metadata": {},
   "outputs": [],
   "source": [
    "lat = chem.latitude\n",
    "lon = chem.longitude\n",
    "\n",
    "ncfile = chem.O3\n",
    "\n",
    "nlevel = 21\n",
    "O3   = chem.O3[:,:nlevel,:,:]\n",
    "NO2  = chem.NO2[:,:nlevel,:,:]\n",
    "PM25 = chem.PM25[:,:nlevel,:,:]\n",
    "ht   = chem.HT[:,:nlevel,:,:]\n",
    "\n",
    "HADV = pa.HADV_O3[:,:nlevel,:,:]\n",
    "ZADV = pa.ZADV_O3[:,:nlevel,:,:]\n",
    "HDIF = pa.HDIF_O3[:,:nlevel,:,:]\n",
    "VDIF = pa.VDIF_O3[:,:nlevel,:,:]\n",
    "DDEP = pa.DDEP_O3[:,:nlevel,:,:]\n",
    "CHEM = pa.CHEM_O3[:,:nlevel,:,:]\n",
    "\n",
    "O3_AnQ = isam1.O3_AnQ[:,:nlevel,:,:]\n",
    "O3_AQI = isam1.O3_AQI[:,:nlevel,:,:]\n",
    "O3_AQT = isam1.O3_AQT[:,:nlevel,:,:]\n",
    "O3_AQA = isam1.O3_AQA[:,:nlevel,:,:]\n",
    "O3_AQP = isam1.O3_AQP[:,:nlevel,:,:]\n",
    "O3_OTH = isam1.O3_OTH[:,:nlevel,:,:]\n",
    "O3_BCO = isam1.O3_BCO[:,:nlevel,:,:]\n",
    "O3_ICO = isam1.O3_ICO[:,:nlevel,:,:]\n",
    "\n",
    "PM_AnQ = isam2.PM_AnQ[:,:nlevel,:,:]\n",
    "PM_AQI = isam2.PM_AQI[:,:nlevel,:,:]\n",
    "PM_AQT = isam2.PM_AQT[:,:nlevel,:,:]\n",
    "PM_AQA = isam2.PM_AQA[:,:nlevel,:,:]\n",
    "PM_AQP = isam2.PM_AQP[:,:nlevel,:,:]\n",
    "PM_OTH = isam2.PM_OTH[:,:nlevel,:,:]\n",
    "PM_BCO = isam2.PM_BCO[:,:nlevel,:,:]\n",
    "PM_ICO = isam2.PM_ICO[:,:nlevel,:,:]\n",
    "\n",
    "HNO3 = pa.HNO3prod[:,:nlevel,:,:]\n",
    "H2O2 = pa.H2O2prod[:,:nlevel,:,:]\n",
    "\n",
    "u = met.uwind[:,:nlevel,:,:]\n",
    "v = met.vwind[:,:nlevel,:,:]\n",
    "w = chem.wwind[:,:nlevel,:,:]"
   ]
  },
  {
   "cell_type": "code",
   "execution_count": 4,
   "metadata": {},
   "outputs": [
    {
     "name": "stdout",
     "output_type": "stream",
     "text": [
      "117.05347\n",
      "30.522572\n"
     ]
    },
    {
     "data": {
      "text/plain": [
       "站点名称\n",
       "安庆大学       116.9898\n",
       "市人大        117.0597\n",
       "环科院        117.0807\n",
       "马山宾馆       117.0331\n",
       "安庆政务中心      117.115\n",
       "高新区        116.9972\n",
       "中心点       117.05347\n",
       "Name: 经度, dtype: object"
      ]
     },
     "execution_count": 4,
     "metadata": {},
     "output_type": "execute_result"
    }
   ],
   "source": [
    "siteloc = pd.read_excel('D:/data/Project_Anqing/安庆市站点坐标.xlsx',header=0,index_col=0)\n",
    "\n",
    "# 三个市区站点的中心点位\n",
    "test = chem.O3[:,:,56,74]\n",
    "\n",
    "print(test.longitude.values)\n",
    "print(test.latitude.values)\n",
    "\n",
    "center = pd.Series({'经度': test.longitude.values, '纬度': test.latitude.values}, name='中心点')\n",
    "siteloc = siteloc.append(center)\n",
    "siteloc\n",
    "\n",
    "sites = ['安庆大学','市人大','环科院','马山宾馆','安庆政务中心','高新区','中心点']\n",
    "\n",
    "lono = siteloc[siteloc.index.isin(sites)]['经度']\n",
    "lato = siteloc[siteloc.index.isin(sites)]['纬度']\n",
    "\n",
    "lono"
   ]
  },
  {
   "cell_type": "code",
   "execution_count": 5,
   "metadata": {},
   "outputs": [],
   "source": [
    "x_index=[]\n",
    "y_index=[]\n",
    "\n",
    "for name in sites:\n",
    "    out_x, out_y = findpoint(lono[name],lato[name],ncfile)\n",
    "    x_index.append(out_x)\n",
    "    y_index.append(out_y)\n",
    "O3_sel = O3.isel(x=x_index, y=y_index)\n",
    "NO2_sel  = NO2.isel(x=x_index, y=y_index)\n",
    "PM25_sel = PM25.isel(x=x_index, y=y_index)\n",
    "htsel    = ht.isel(x=x_index, y=y_index)\n",
    "\n",
    "HADV_sel  = HADV.isel(x=x_index, y=y_index)\n",
    "ZADV_sel  = ZADV.isel(x=x_index, y=y_index)\n",
    "HDIF_sel  = HDIF.isel(x=x_index, y=y_index)\n",
    "VDIF_sel  = VDIF.isel(x=x_index, y=y_index)\n",
    "DDEP_sel  = DDEP.isel(x=x_index, y=y_index)\n",
    "CHEM_sel  = CHEM.isel(x=x_index, y=y_index)\n",
    "\n",
    "HNO3_sel = HNO3.isel(x=x_index, y=y_index)\n",
    "H2O2_sel = H2O2.isel(x=x_index, y=y_index)\n",
    "\n",
    "O3AnQ_sel = O3_AnQ.isel(x=x_index, y=y_index)\n",
    "O3AQI_sel = O3_AQI.isel(x=x_index, y=y_index)\n",
    "O3AQT_sel = O3_AQT.isel(x=x_index, y=y_index)\n",
    "O3AQA_sel = O3_AQA.isel(x=x_index, y=y_index)\n",
    "O3AQP_sel = O3_AQP.isel(x=x_index, y=y_index)\n",
    "O3OTH_sel = O3_OTH.isel(x=x_index, y=y_index)\n",
    "O3ICO_sel = O3_ICO.isel(x=x_index, y=y_index)\n",
    "O3BCO_sel = O3_BCO.isel(x=x_index, y=y_index)\n",
    "\n",
    "PMAnQ_sel = PM_AnQ.isel(x=x_index, y=y_index)\n",
    "PMAQI_sel = PM_AQI.isel(x=x_index, y=y_index)\n",
    "PMAQT_sel = PM_AQT.isel(x=x_index, y=y_index)\n",
    "PMAQA_sel = PM_AQA.isel(x=x_index, y=y_index)\n",
    "PMAQP_sel = PM_AQP.isel(x=x_index, y=y_index)\n",
    "PMOTH_sel = PM_OTH.isel(x=x_index, y=y_index)\n",
    "PMICO_sel = PM_ICO.isel(x=x_index, y=y_index)\n",
    "PMBCO_sel = PM_BCO.isel(x=x_index, y=y_index)\n",
    "\n",
    "HNO3_sel = HNO3.isel(x=x_index, y=y_index)\n",
    "H2O2_sel = H2O2.isel(x=x_index, y=y_index)\n",
    "\n",
    "u_sel = u.isel(x=x_index, y=y_index)\n",
    "v_sel = v.isel(x=x_index, y=y_index)\n",
    "w_sel = w.isel(x=x_index, y=y_index)"
   ]
  },
  {
   "cell_type": "code",
   "execution_count": 6,
   "metadata": {},
   "outputs": [],
   "source": [
    "diag_O3   = np.diagonal(O3_sel, axis1=2, axis2=3)\n",
    "diag_NO2  = np.diagonal(NO2_sel, axis1=2, axis2=3)\n",
    "diag_PM25 = np.diagonal(PM25_sel, axis1=2, axis2=3)\n",
    "diag_ht   = np.diagonal(htsel, axis1=2, axis2=3)"
   ]
  },
  {
   "cell_type": "code",
   "execution_count": 7,
   "metadata": {},
   "outputs": [],
   "source": [
    "diag_HADV  = np.diagonal(HADV_sel, axis1=2, axis2=3)\n",
    "diag_ZADV  = np.diagonal(ZADV_sel, axis1=2, axis2=3)\n",
    "diag_HDIF  = np.diagonal(HDIF_sel, axis1=2, axis2=3)\n",
    "diag_VDIF  = np.diagonal(VDIF_sel, axis1=2, axis2=3)\n",
    "diag_DDEP  = np.diagonal(DDEP_sel, axis1=2, axis2=3)\n",
    "diag_CHEM  = np.diagonal(CHEM_sel, axis1=2, axis2=3)"
   ]
  },
  {
   "cell_type": "code",
   "execution_count": 8,
   "metadata": {},
   "outputs": [],
   "source": [
    "diag_O3AnQ = np.diagonal(O3AnQ_sel, axis1=2, axis2=3)\n",
    "diag_O3AQI = np.diagonal(O3AQI_sel, axis1=2, axis2=3)\n",
    "diag_O3AQT = np.diagonal(O3AQT_sel, axis1=2, axis2=3)\n",
    "diag_O3AQA = np.diagonal(O3AQA_sel, axis1=2, axis2=3)\n",
    "diag_O3AQP = np.diagonal(O3AQP_sel, axis1=2, axis2=3)\n",
    "diag_O3OTH = np.diagonal(O3OTH_sel, axis1=2, axis2=3)\n",
    "diag_O3ICO = np.diagonal(O3ICO_sel, axis1=2, axis2=3)\n",
    "diag_O3BCO = np.diagonal(O3BCO_sel, axis1=2, axis2=3)"
   ]
  },
  {
   "cell_type": "code",
   "execution_count": 9,
   "metadata": {},
   "outputs": [],
   "source": [
    "diag_PMAnQ = np.diagonal(PMAnQ_sel, axis1=2, axis2=3)\n",
    "diag_PMAQI = np.diagonal(PMAQI_sel, axis1=2, axis2=3)\n",
    "diag_PMAQT = np.diagonal(PMAQT_sel, axis1=2, axis2=3)\n",
    "diag_PMAQA = np.diagonal(PMAQA_sel, axis1=2, axis2=3)\n",
    "diag_PMAQP = np.diagonal(PMAQP_sel, axis1=2, axis2=3)\n",
    "diag_PMOTH = np.diagonal(PMOTH_sel, axis1=2, axis2=3)\n",
    "diag_PMICO = np.diagonal(PMICO_sel, axis1=2, axis2=3)\n",
    "diag_PMBCO = np.diagonal(PMBCO_sel, axis1=2, axis2=3)"
   ]
  },
  {
   "cell_type": "code",
   "execution_count": 10,
   "metadata": {},
   "outputs": [],
   "source": [
    "diag_HNO3 = np.diagonal(HNO3_sel, axis1=2, axis2=3)\n",
    "diag_H2O2 = np.diagonal(H2O2_sel, axis1=2, axis2=3)\n",
    "\n",
    "Sens = diag_H2O2/diag_HNO3"
   ]
  },
  {
   "cell_type": "code",
   "execution_count": 11,
   "metadata": {},
   "outputs": [],
   "source": [
    "diag_u = np.diagonal(u_sel, axis1=2, axis2=3)\n",
    "diag_v = np.diagonal(v_sel, axis1=2, axis2=3)\n",
    "diag_w = np.diagonal(w_sel, axis1=2, axis2=3)"
   ]
  },
  {
   "cell_type": "code",
   "execution_count": 12,
   "metadata": {},
   "outputs": [],
   "source": [
    "savemat(\n",
    "    'D:/Download/AQ_2307_sites.mat',\n",
    "    {\n",
    "    'height':diag_ht,\n",
    "    'O3':diag_O3,\n",
    "    'NO2':diag_NO2,\n",
    "    'PM25':diag_PM25,\n",
    "    'HADV':diag_HADV,\n",
    "    'ZADV':diag_ZADV,\n",
    "    'HDIF':diag_HDIF,\n",
    "    'VDIF':diag_VDIF,\n",
    "    'DDEP':diag_DDEP,\n",
    "    'CHEM':diag_CHEM,\n",
    "    'O3_AnQ':diag_O3AnQ,\n",
    "    'O3_AQI':diag_O3AQI,\n",
    "    'O3_AQT':diag_O3AQT,\n",
    "    'O3_AQA':diag_O3AQA,\n",
    "    'O3_AQP':diag_O3AQP,\n",
    "    'O3_OTH':diag_O3OTH,\n",
    "    'O3_BCO':diag_O3BCO,\n",
    "    'O3_ICO':diag_O3ICO,\n",
    "    'PM_AnQ':diag_PMAnQ,\n",
    "    'PM_AQI':diag_PMAQI,\n",
    "    'PM_AQT':diag_PMAQT,\n",
    "    'PM_AQA':diag_PMAQA,\n",
    "    'PM_AQP':diag_PMAQP,\n",
    "    'PM_OTH':diag_PMOTH,\n",
    "    'PM_BCO':diag_PMBCO,\n",
    "    'PM_ICO':diag_PMICO,\n",
    "    'Sensitivity':Sens,\n",
    "    'u':diag_u,\n",
    "    'v':diag_v,\n",
    "    'w':diag_w,\n",
    "    }\n",
    "    )"
   ]
  }
 ],
 "metadata": {
  "kernelspec": {
   "display_name": "base",
   "language": "python",
   "name": "python3"
  },
  "language_info": {
   "codemirror_mode": {
    "name": "ipython",
    "version": 3
   },
   "file_extension": ".py",
   "mimetype": "text/x-python",
   "name": "python",
   "nbconvert_exporter": "python",
   "pygments_lexer": "ipython3",
   "version": "3.10.12"
  },
  "orig_nbformat": 4
 },
 "nbformat": 4,
 "nbformat_minor": 2
}
